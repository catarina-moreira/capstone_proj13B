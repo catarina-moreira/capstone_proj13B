# Step 1: Upload the CSV file
from google.colab import files
uploaded = files.upload()

# Step 2: Load the CSV file
import pandas as pd
from bertopic import BERTopic
from sklearn.feature_extraction.text import CountVectorizer

# Extract the uploaded file name
csv_file = list(uploaded.keys())[0]

# Load the dataset into a pandas DataFrame
df = pd.read_csv(csv_file)

# Combine Title and Abstract columns for topic modeling
df['text'] = df['Title'].fillna('') + ". " + df['Abstract'].fillna('')

# Prepare sentence list
sentenceList = df['text'].tolist()

# Initialize the vectorizer (using ngrams for richer representation)
vectorizer_model = CountVectorizer(ngram_range=(1, 2), stop_words="english")

# Initialize BERTopic model
topic_model = BERTopic(calculate_probabilities=True, vectorizer_model=vectorizer_model)

# Fit the topic model
topics, probs = topic_model.fit_transform(sentenceList)

# Add the topics to the dataframe
df['topic'] = topics

# ---- Get Keywords Per Topic ----
topic_keywords = topic_model.get_topics() 

# ---- Group by Year ----
yearly_topic_summary = {}

for year in sorted(df['Year'].dropna().unique()):
    year_df = df[df['Year'] == year]
    topic_counts = year_df['topic'].value_counts().to_dict()

    yearly_topics = []
    for topic_id, count in topic_counts.items():
        if topic_id == -1:
            continue  
        keywords = [word for word, _ in topic_keywords.get(topic_id, [])][:5]  
        yearly_topics.append({
            'topic_id': topic_id,
            'keywords': keywords,
            'count': count
        })

    yearly_topic_summary[year] = yearly_topics

# ---- Output Yearly Topics ----
for year, topics in yearly_topic_summary.items():
    print(f"\n📅 Year: {year}")
    for t in topics:
        print(f"  🔹 Topic {t['topic_id']} ({t['count']} papers): {', '.join(t['keywords'])}")

# ---- Visualizations ----
# Bar Chart showing the number of papers per topic
topic_model.visualize_barchart()

# Heatmap showing the similarity between topics
topic_model.visualize_heatmap()

# Hierarchical visualization of topics
topic_model.visualize_hierarchy()
